{
 "cells": [
  {
   "cell_type": "code",
   "execution_count": null,
   "metadata": {
    "tags": []
   },
   "outputs": [],
   "source": [
    "import pandas as pd\n",
    "import numpy as np\n",
    "import re"
   ]
  },
  {
   "cell_type": "code",
   "execution_count": null,
   "metadata": {
    "tags": []
   },
   "outputs": [],
   "source": [
    "import matplotlib.pyplot as plt"
   ]
  },
  {
   "cell_type": "code",
   "execution_count": null,
   "metadata": {
    "tags": []
   },
   "outputs": [],
   "source": [
    "# List all files in data directort\n",
    "from glob import glob \n",
    "flist_all = sorted(glob('./mosaic_data/aerosol-data/datasets/*.tab'))"
   ]
  },
  {
   "cell_type": "code",
   "execution_count": null,
   "metadata": {},
   "outputs": [],
   "source": [
    "files_to_use = [1, 2, 4, 6, 13, 14, 15]\n",
    "#files_to_use = [1, 2, 4, 6, 13, 15]\n",
    "\n",
    "blh=[320,100,410,180,290,920,90]"
   ]
  },
  {
   "cell_type": "code",
   "execution_count": null,
   "metadata": {},
   "outputs": [],
   "source": [
    "flist = [flist_all[i] for i in files_to_use]\n",
    "flist"
   ]
  },
  {
   "cell_type": "code",
   "execution_count": null,
   "metadata": {
    "tags": []
   },
   "outputs": [],
   "source": [
    "# Boundary layer heights for each plot\n",
    "blh=[320,100,410,180,290,90]"
   ]
  },
  {
   "cell_type": "code",
   "execution_count": null,
   "metadata": {
    "tags": []
   },
   "outputs": [],
   "source": [
    "# Set variable names\n",
    "varnamesaero = [\"DateTime\", \"z\", \"p\", \"Tc\", \"RH\", \"TTechC\", \"RHTech\", \"N8\", \"N12\", \"N150\", \"Var11\", \"Var12\", \"Var13\", \"Var14\", \"Var15\", \"Var16\", \"Var17\", \"Var18\", \"Var19\", \"Var20\", \"Var21\", \"Var22\", \"Var23\", \"Var24\", \"Var25\", \"Var26\", \"Var27\"]\n",
    "varnamesmet = ['DateTime', 'p', 'Tc', 'rh', 'wspd', 'wdir', 'z']"
   ]
  },
  {
   "cell_type": "code",
   "execution_count": null,
   "metadata": {
    "tags": []
   },
   "outputs": [],
   "source": [
    "# Create 10m height bins from 0 to 1200 m\n",
    "zbin = range(0,1201,10)"
   ]
  },
  {
   "cell_type": "code",
   "execution_count": null,
   "metadata": {
    "tags": []
   },
   "outputs": [],
   "source": [
    "for f in flist:\n",
    "    print(re.findall('(\\d{4}-\\d{2}-\\d{2}_\\d{2})', f))"
   ]
  },
  {
   "cell_type": "code",
   "execution_count": null,
   "metadata": {
    "tags": []
   },
   "outputs": [],
   "source": [
    "fig, (ax1,ax2) = plt.subplots(1,2, constrained_layout=True, sharey=True, figsize=(8,4))\n",
    "\n",
    "for f,b in zip(flist, blh):\n",
    "    print(f)\n",
    "    # Find corresponding meteorology file\n",
    "    date = re.findall('(\\d{4}-\\d{2}-\\d{2}_\\d{2})', f)[0] # find dddd-mm-yy_hh in filename\n",
    "    f2 = glob(f'./mosaic_data/met-data/datasets/*{date}*')[0]\n",
    "    \n",
    "    # Open data \n",
    "    df = pd.read_csv(f, delimiter='\\t', skiprows=50, names=varnamesaero)\n",
    "    df2 = pd.read_csv(f2, delimiter='\\t', skiprows=29, names=varnamesmet)\n",
    "\n",
    "    # Trim meterology data to be during the same time range\n",
    "    t1, t2 = df.DateTime.iloc[0], df.DateTime.iloc[-1]\n",
    "    df2.loc[(df2['DateTime'] >= t1) & (df['DateTime'] <= t2)]\n",
    "\n",
    "    # Bin by height\n",
    "    df['bin'] = np.digitize(df.z, zbin)\n",
    "    df2['bin'] = np.digitize(df2.z, zbin)\n",
    "\n",
    "    # Calculate theta\n",
    "    df2['theta'] = (df2.Tc + 273.15) * (1000/df2.p)**(287/1004)\n",
    "\n",
    "    # Groupby bin number and take mean of needed variable\n",
    "    metbin = df2.groupby('bin').mean('theta')\n",
    "    numbin = df.groupby('bin').mean('N12')\n",
    "    \n",
    "    # Add height data based on bin\n",
    "    metbin['z'] = [zbin[i] for i in metbin.index]\n",
    "    numbin['z'] = [zbin[i] for i in numbin.index]\n",
    "    \n",
    "    # Plot profiles\n",
    "    metbin.plot(x='theta', y='z',ax=ax1, label=date)\n",
    "    numbin.plot(x='N12', y='z', ax=ax2, legend=None)\n",
    "\n",
    "    metbin['thetadiff'] = metbin['theta'] - 2*metbin['theta'].shift(1) + metbin['theta'].shift(2)\n",
    "    # b = metbin[metbin.thetadiff == metbin.thetadiff.max()].z.values\n",
    "    # Plot BLH dots\n",
    "    ax1.plot(metbin.set_index('z').loc[b].theta, b,'o', color='k')\n",
    "    ax2.plot(numbin.set_index('z').loc[b].N12, b,'o', color='k')\n",
    "    \n",
    "plt.ylim(0,1200)\n",
    "ax1.set_xlim(269, 290)\n",
    "ax1.grid(visible=True)\n",
    "ax2.grid(visible=True)\n",
    "\n",
    "ax1.set_title('(a) Potential Temperature')\n",
    "ax1.set_xlabel('$\\\\theta$ [K]')\n",
    "ax1.set_ylabel('Height [m]')\n",
    "\n",
    "ax2.set_title('(b) N12 Number Concentration')\n",
    "ax2.set_xlabel('Concentration [# cm$^{-3}$]')\n",
    "\n",
    "plt.savefig('plots/01.png', dpi=500)\n",
    "# ax2.set_xscale('log')"
   ]
  },
  {
   "cell_type": "code",
   "execution_count": null,
   "metadata": {},
   "outputs": [],
   "source": [
    "metbin.z"
   ]
  },
  {
   "cell_type": "code",
   "execution_count": null,
   "metadata": {
    "tags": []
   },
   "outputs": [],
   "source": [
    "metbin['thetadiff'] = metbin['theta'] - 2*metbin['theta'].shift(1) + metbin['theta'].shift(2)\n"
   ]
  },
  {
   "cell_type": "code",
   "execution_count": null,
   "metadata": {
    "tags": []
   },
   "outputs": [],
   "source": [
    "metbin.plot(x='theta', y='z', label=date)\n",
    "plt.show()"
   ]
  },
  {
   "cell_type": "code",
   "execution_count": null,
   "metadata": {
    "tags": []
   },
   "outputs": [],
   "source": [
    "metbin.plot(x='thetadiff', y='z', label=date)\n"
   ]
  },
  {
   "cell_type": "code",
   "execution_count": null,
   "metadata": {},
   "outputs": [],
   "source": []
  }
 ],
 "metadata": {
  "kernelspec": {
   "display_name": "Python 3 (ipykernel)",
   "language": "python",
   "name": "python3"
  },
  "language_info": {
   "codemirror_mode": {
    "name": "ipython",
    "version": 3
   },
   "file_extension": ".py",
   "mimetype": "text/x-python",
   "name": "python",
   "nbconvert_exporter": "python",
   "pygments_lexer": "ipython3",
   "version": "3.11.3"
  }
 },
 "nbformat": 4,
 "nbformat_minor": 4
}
