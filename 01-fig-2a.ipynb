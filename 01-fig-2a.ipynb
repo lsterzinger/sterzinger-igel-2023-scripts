{
 "cells": [
  {
   "cell_type": "code",
   "execution_count": 1,
   "id": "964b7d1b-c486-4ae0-a29b-ec29fa135e5f",
   "metadata": {
    "tags": []
   },
   "outputs": [],
   "source": [
    "import numpy as np\n",
    "import matplotlib.pyplot as plt"
   ]
  },
  {
   "cell_type": "code",
   "execution_count": 2,
   "id": "813b3b06-8b81-45a4-a794-5029f49c1066",
   "metadata": {
    "tags": []
   },
   "outputs": [],
   "source": [
    "z = np.arange(0, 1500)"
   ]
  },
  {
   "cell_type": "markdown",
   "id": "d845113d-97f2-4132-94cf-7ab096bca756",
   "metadata": {},
   "source": [
    "Arctic boundary layer:\n",
    "| Name | Value |\n",
    "|------|-------|\n",
    "| Stability | 2-6 K |\n",
    "| Inversion Height | 200-600 m |"
   ]
  },
  {
   "cell_type": "markdown",
   "id": "b1e67aab-a5bf-4793-a068-a780aee61c56",
   "metadata": {},
   "source": [
    "# Theta"
   ]
  },
  {
   "cell_type": "code",
   "execution_count": 3,
   "id": "88fcfd43-85ed-4a39-b724-0a8875cb2b2b",
   "metadata": {
    "tags": []
   },
   "outputs": [],
   "source": [
    "z_inv = 700\n",
    "inv_thickness = 100\n",
    "inv_strength = 6\n",
    "theta_0 = 263\n",
    "ft_slope = 0.005"
   ]
  },
  {
   "cell_type": "code",
   "execution_count": 4,
   "id": "d357a0e8-26fb-47d0-9ba3-01a44646607c",
   "metadata": {
    "tags": []
   },
   "outputs": [
    {
     "data": {
      "text/plain": [
       "[<matplotlib.lines.Line2D at 0x7f3d57983350>]"
      ]
     },
     "execution_count": 4,
     "metadata": {},
     "output_type": "execute_result"
    },
    {
     "data": {
      "image/png": "[encoded data removed]",
      "text/plain": [
       "<Figure size 640x480 with 1 Axes>"
      ]
     },
     "metadata": {},
     "output_type": "display_data"
    }
   ],
   "source": [
    "theta = np.zeros(len(z))\n",
    "for i, zi in enumerate(z):\n",
    "    if zi < z_inv:\n",
    "        theta[i] = theta_0\n",
    "    elif zi >= z_inv and zi < (z_inv + inv_thickness):\n",
    "        theta[i] = theta_0 + (zi-z_inv) * (inv_strength/inv_thickness)\n",
    "    else:\n",
    "        theta[i] = theta[i-1] + ft_slope\n",
    "\n",
    "plt.plot(theta,z)"
   ]
  },
  {
   "cell_type": "markdown",
   "id": "aae5bd4f-54d5-45b1-94fb-b07a6ebb69bf",
   "metadata": {},
   "source": [
    "# Pressure"
   ]
  },
  {
   "cell_type": "code",
   "execution_count": 6,
   "id": "8f63edfe-7e55-4b92-92f7-8f81de9ef0c0",
   "metadata": {
    "tags": []
   },
   "outputs": [],
   "source": [
    "pres = np.zeros(len(z))\n",
    "\n",
    "for i,zi in enumerate(z):\n",
    "    pres[i] = (100000 + (-1.2985 * 9.8) * (zi))/100"
   ]
  },
  {
   "cell_type": "markdown",
   "id": "51f3f90a-5fa9-4be4-995e-1ef62a30cafe",
   "metadata": {},
   "source": [
    "# Moisture"
   ]
  },
  {
   "cell_type": "code",
   "execution_count": 7,
   "id": "537a01e1-4b27-42c3-b559-250dbf00eef3",
   "metadata": {
    "tags": []
   },
   "outputs": [],
   "source": [
    "from metpy.calc import mixing_ratio_from_relative_humidity, relative_humidity_from_mixing_ratio\n",
    "from metpy.units import units"
   ]
  },
  {
   "cell_type": "code",
   "execution_count": 8,
   "id": "01b9f3f8-7381-4da2-a6b4-0152fa8df207",
   "metadata": {
    "tags": []
   },
   "outputs": [],
   "source": [
    "from metpy.constants import g, Rd, Lv, Cp_d, Rv, rho_d\n",
    "from metpy.calc import temperature_from_potential_temperature, mixing_ratio_from_relative_humidity"
   ]
  },
  {
   "cell_type": "code",
   "execution_count": 9,
   "id": "eeaa8472-4710-4890-9f7f-93c5c5896dde",
   "metadata": {
    "tags": []
   },
   "outputs": [],
   "source": [
    "cbh = 400\n",
    "cthick = 300\n",
    "rh_0 = .85\n",
    "drh = -0.0024\n",
    "minv = 0"
   ]
  },
  {
   "cell_type": "markdown",
   "id": "88a6d85d-1172-4c15-91a1-3e0e4bf0b614",
   "metadata": {},
   "source": [
    "Set cloud base height and base levels"
   ]
  },
  {
   "cell_type": "code",
   "execution_count": 10,
   "id": "24b34c28-87c5-4531-89ef-cddc6d8151c6",
   "metadata": {
    "tags": []
   },
   "outputs": [],
   "source": [
    "z0 = cbh\n",
    "z1 = cbh + cthick\n",
    "z_star = np.arange(z0, z1+1) * units('meter')"
   ]
  },
  {
   "cell_type": "code",
   "execution_count": 11,
   "id": "3cb68f55-6843-4185-91da-dbacfd1bd6d1",
   "metadata": {
    "tags": []
   },
   "outputs": [],
   "source": [
    "T = temperature_from_potential_temperature(pres[z0:z1+1] * units('hPa'), theta[z0:z1+1]*units('K'))\n",
    "qv = mixing_ratio_from_relative_humidity(pres[z0:z1+1] * units('hPa'), T, 1.0)"
   ]
  },
  {
   "cell_type": "markdown",
   "id": "9ad2d29c-227f-4904-a384-d550a217b899",
   "metadata": {},
   "source": [
    "## Set BL qv from cloud base\n"
   ]
  },
  {
   "cell_type": "code",
   "execution_count": 12,
   "id": "b66834e4-fc56-48f0-b2e7-efe69b14c04a",
   "metadata": {
    "tags": []
   },
   "outputs": [
    {
     "data": {
      "text/html": [
       "0.001360824270266689 dimensionless"
      ],
      "text/latex": [
       "$0.001360824270266689\\ dimensionless$"
      ],
      "text/plain": [
       "0.001360824270266689 <Unit('dimensionless')>"
      ]
     },
     "execution_count": 12,
     "metadata": {},
     "output_type": "execute_result"
    }
   ],
   "source": [
    "qv_bl = qv[0]\n",
    "qv_bl"
   ]
  },
  {
   "cell_type": "markdown",
   "id": "13cf0128-7243-4e97-a63b-d5d29a0ef1e1",
   "metadata": {},
   "source": [
    "## Adiabatic profile"
   ]
  },
  {
   "cell_type": "code",
   "execution_count": 13,
   "id": "0c599097-7c59-4113-bb9a-6ce75fd0941c",
   "metadata": {
    "tags": []
   },
   "outputs": [],
   "source": [
    "a1 = (g/(Rd*T))*(((Lv* Rd)/(Cp_d*Rd*T)) - 1)\n",
    "a2 = (1/qv) + (Lv**2 / (Cp_d * Rv * T**2))\n",
    "lwc = (a1/a2)  * np.arange(len(z_star)) * units('m')\n"
   ]
  },
  {
   "cell_type": "markdown",
   "id": "c5e06fcf-c173-4e54-b270-8b686cb07129",
   "metadata": {},
   "source": [
    "LWP"
   ]
  },
  {
   "cell_type": "code",
   "execution_count": 14,
   "id": "44dd0206-ced2-43dc-a24c-13a9a099f6bb",
   "metadata": {
    "tags": []
   },
   "outputs": [
    {
     "data": {
      "text/html": [
       "63.19687027395735 gram/meter<sup>3</sup>"
      ],
      "text/latex": [
       "$63.19687027395735\\ \\frac{\\mathrm{gram}}{\\mathrm{meter}^{3}}$"
      ],
      "text/plain": [
       "63.19687027395735 <Unit('gram / meter ** 3')>"
      ]
     },
     "execution_count": 14,
     "metadata": {},
     "output_type": "execute_result"
    }
   ],
   "source": [
    "np.trapz(lwc.to('g/kg') * rho_d)"
   ]
  },
  {
   "cell_type": "markdown",
   "id": "95bb928c-66ea-4c1c-a2ef-6c6efd0dfb9b",
   "metadata": {},
   "source": [
    "## Put it all together"
   ]
  },
  {
   "cell_type": "code",
   "execution_count": 15,
   "id": "796403de-b7f7-42b4-88f8-2ac9adb5e696",
   "metadata": {
    "tags": []
   },
   "outputs": [],
   "source": [
    "temp = temperature_from_potential_temperature(pres*units('hPa'), theta * units('K'))"
   ]
  },
  {
   "cell_type": "markdown",
   "id": "8f3032ea-47ed-436e-8b23-472b65478f31",
   "metadata": {},
   "source": [
    "Expand mixing ratio outside of cloud:\n",
    "* Moisture is constant from cloud base to surface\n",
    "* RH of 70% above cloud"
   ]
  },
  {
   "cell_type": "code",
   "execution_count": 17,
   "id": "e0eae8b5-3598-4519-ad0f-ad7575ec2895",
   "metadata": {
    "tags": []
   },
   "outputs": [],
   "source": [
    "qvfull = np.zeros(len(z))\n",
    "\n",
    "for i in range(len(qvfull)):\n",
    "    if i < z0: qvfull[i] = qv_bl\n",
    "    elif i >= z0 and i <= z1: qvfull[i] = mixing_ratio_from_relative_humidity(pres[i] * units('hPa'), temp[i], 1.0) + qv[i-z0]\n",
    "    elif i > z0 and z[i] <= z_inv+inv_thickness: qvfull[i] = qv[-1]\n",
    "    else: qvfull[i] = mixing_ratio_from_relative_humidity(pres[i] * units('hPa'), temp[i], 0.7)"
   ]
  },
  {
   "cell_type": "code",
   "execution_count": 22,
   "id": "77cb91d8-8260-4802-bc18-5e3a3dbe2c15",
   "metadata": {
    "tags": []
   },
   "outputs": [
    {
     "data": {
      "image/png": "[encoded data removed]",
      "text/plain": [
       "<Figure size 300x400 with 2 Axes>"
      ]
     },
     "metadata": {},
     "output_type": "display_data"
    }
   ],
   "source": [
    "rhplot = relative_humidity_from_mixing_ratio(pres * units('hPa'), temp, qvfull)\n",
    "\n",
    "rhplot = np.where(rhplot > 1.0, 1.0, rhplot)\n",
    "rhplot = np.where(rhplot < .7, .7, rhplot)\n",
    "# plt.plot(rhplot)\n",
    "\n",
    "fig = plt.figure(figsize=(3,4), constrained_layout=True)\n",
    "\n",
    "ax = plt.subplot()\n",
    "p1 = ax.plot(theta, z, label='$\\\\theta$')\n",
    "ax2 = ax.twiny()\n",
    "p2 = ax2.plot(rhplot.magnitude, z, color='g', label='RH')\n",
    "ax.axhspan(cbh, cbh+cthick, color='grey', alpha=.5)\n",
    "\n",
    "handles = p1 + p2\n",
    "ax.set_ylim(None, 1250)\n",
    "plt.legend(handles=handles)\n",
    "\n",
    "ax.set_xlabel('$\\\\theta$ [K]')\n",
    "ax2.set_xlabel('RH')\n",
    "ax.set_ylabel('z [m]')\n",
    "plt.title('a) Initialized Profile')\n",
    "plt.savefig('./paper_plots/01a.pdf')"
   ]
  },
  {
   "cell_type": "code",
   "execution_count": null,
   "id": "ad6976a6-8e05-4746-8f2c-3b942cc45d40",
   "metadata": {},
   "outputs": [],
   "source": []
  }
 ],
 "metadata": {
  "kernelspec": {
   "display_name": "Python 3 (ipykernel)",
   "language": "python",
   "name": "python3"
  },
  "language_info": {
   "codemirror_mode": {
    "name": "ipython",
    "version": 3
   },
   "file_extension": ".py",
   "mimetype": "text/x-python",
   "name": "python",
   "nbconvert_exporter": "python",
   "pygments_lexer": "ipython3",
   "version": "3.11.1"
  }
 },
 "nbformat": 4,
 "nbformat_minor": 5
}
