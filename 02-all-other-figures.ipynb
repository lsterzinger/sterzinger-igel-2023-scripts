{
 "cells": [
  {
   "cell_type": "code",
   "execution_count": null,
   "id": "5abea8af-4346-4b77-bb61-4b4c9e4d790b",
   "metadata": {},
   "outputs": [],
   "source": []
  },
  {
   "cell_type": "code",
   "execution_count": null,
   "id": "142ef173-3435-4750-a433-8bf86a5dcf00",
   "metadata": {
    "tags": []
   },
   "outputs": [],
   "source": [
    "import xarray as xr\n",
    "import pyrams.xarray\n",
    "import matplotlib.pyplot as plt\n",
    "import matplotlib as mpl\n",
    "import numpy as np\n",
    "from glob import glob\n",
    "from tqdm import tqdm\n",
    "import pint_xarray\n",
    "ureg = pint_xarray.unit_registry\n",
    "\n",
    "simlist = [\n",
    "    'salt20',\n",
    "    'salt200',\n",
    "    'salt400',\n",
    "    'salt600',\n",
    "    'salt800',\n",
    "    'salt1000',\n",
    "]\n",
    "\n",
    "# simlist = ['salt' + l for l in simlist]\n",
    "\n",
    "sims = {}\n",
    "for sim in simlist:\n",
    "    data = xr.open_dataset(f'model_data/{sim}.nc')\n",
    "    data = data.rams.apply_variable_metadata()\n",
    "    data.time.attrs['units'] = 'hour'\n",
    "    sims[sim] = data\n",
    "\n",
    "cmap = plt.get_cmap('jet', len(sims))"
   ]
  },
  {
   "cell_type": "code",
   "execution_count": null,
   "id": "91c875ed-3f7c-4d16-998c-92339166e42e",
   "metadata": {
    "tags": []
   },
   "outputs": [],
   "source": [
    "plots_dir = './plots/'"
   ]
  },
  {
   "cell_type": "code",
   "execution_count": null,
   "id": "9d93b74d-3b52-482d-8b67-2d98084f2526",
   "metadata": {
    "tags": []
   },
   "outputs": [],
   "source": [
    "fig = plt.figure(figsize=(3,4), constrained_layout=True)\n",
    "for i,(name, ds) in enumerate(sims.items()):\n",
    "    ds.isel(time=0).SALT_FILM_NP.pint.to('1/mg').plot(y='z', label=name, color=cmap(i))\n",
    "plt.legend()\n",
    "plt.xlabel('Salt Concentration [mg$^{-1}$]')\n",
    "plt.title('b) Initial Salt Concentration\\nProfiles')\n",
    "plt.savefig(f'{plots_dir}/02b.png', dpi=500)"
   ]
  },
  {
   "cell_type": "code",
   "execution_count": null,
   "id": "87fa03b7-d88d-4280-b562-acfb3c9ce151",
   "metadata": {
    "tags": []
   },
   "outputs": [],
   "source": [
    "!convert +append plots/02a.png plots/02b.png plots/02.png"
   ]
  },
  {
   "cell_type": "code",
   "execution_count": null,
   "id": "5bafc5de-9221-4141-91c3-96b10a42bda4",
   "metadata": {
    "tags": []
   },
   "outputs": [],
   "source": [
    "fig, axs = plt.subplots(3, 2, sharex=True, sharey=True, constrained_layout=True, figsize=(5,5))\n",
    "\n",
    "for i,((name, ds), ax) in enumerate(zip(sims.items(), axs.flatten())):\n",
    "    ds = ds.sel(time=slice(4,28))\n",
    "    p = ds.RCP.where(ds.RCP >= 0.01 * ureg('g/kg')).pint.to('g/kg').plot(x='time', vmin=0, vmax=.2, ax=ax, add_colorbar=False)\n",
    "    # c=(ds.RPP + ds.RSP + ds.RAP + ds.RGP + ds.RHP).pint.to('g/kg').plot.contour(x='time',ax=ax, colors='k')\n",
    "    \n",
    "    # ax.clabel(c, inline=True)\n",
    "    \n",
    "    ax.set_title(name + \" Liquid\")\n",
    "    p.set_rasterized(True)\n",
    "    if i%2 != 0: ax.set_ylabel('')\n",
    "    if i not in [4,5]: ax.set_xlabel('')\n",
    "       \n",
    "plt.ylim(None,1000)\n",
    "plt.colorbar(p, ax=axs.ravel().tolist(), shrink=1, label='g kg$^{-1}$')\n",
    "# plt.legend()\n",
    "# plt.xlabel('mg$^{-1}$')\n",
    "plt.suptitle('a) Liquid Mass')\n",
    "plt.savefig(f'{plots_dir}/03a.png', dpi=500)"
   ]
  },
  {
   "cell_type": "code",
   "execution_count": null,
   "id": "ad800a30-8198-4052-94e1-52046e094802",
   "metadata": {
    "tags": []
   },
   "outputs": [],
   "source": [
    "fig, axs = plt.subplots(3, 2, sharex=True, sharey=True, constrained_layout=True, figsize=(5,5))\n",
    "\n",
    "for i,((name, ds), ax) in enumerate(zip(sims.items(), axs.flatten())):\n",
    "    ds = ds.sel(time=slice(4,28))\n",
    "    # p = ds.RCP.where(ds.RCP >= 0.01 * ureg('g/kg')).pint.to('g/kg').plot(x='time', vmin=0, vmax=.2, ax=ax, add_colorbar=False)\n",
    "    ice=(ds.RPP + ds.RSP + ds.RAP + ds.RGP + ds.RHP).pint.to('mg/kg')\n",
    "\n",
    "    c=ice.where(ice > 0.1*ureg('mg/kg')).plot(x='time',ax=ax, vmin=0.1, vmax=.2, add_colorbar=False)\n",
    "    \n",
    "    # ax.clabel(c, inline=True)\n",
    "    \n",
    "    ax.set_title(name + \" Ice\")\n",
    "    c.set_rasterized(True)\n",
    "    \n",
    "    if i%2 != 0: ax.set_ylabel('')\n",
    "    if i not in [4,5]: ax.set_xlabel('')\n",
    "plt.ylim(None,1000)\n",
    "plt.colorbar(c, ax=axs.ravel().tolist(), shrink=1, label='mg kg$^{-1}$')\n",
    "# plt.legend()\n",
    "# plt.xlabel('mg$^{-1}$')\n",
    "# plt.title('Initial Salt Concentration Profiles')\n",
    "plt.suptitle('b) Ice Mass')\n",
    "plt.savefig(f'{plots_dir}/03b.png', dpi=500)"
   ]
  },
  {
   "cell_type": "code",
   "execution_count": null,
   "id": "dd7950fe-93ce-4f83-b264-45527c8f4f7a",
   "metadata": {
    "tags": []
   },
   "outputs": [],
   "source": [
    "!convert +append plots/03a.png plots/03b.png plots/03.png"
   ]
  },
  {
   "cell_type": "code",
   "execution_count": null,
   "id": "9b0ebfd4-b501-4aad-b081-40e897da9e6b",
   "metadata": {
    "tags": []
   },
   "outputs": [],
   "source": [
    "fig, (ax1, ax2) = plt.subplots(1, 2, figsize=(10,5), constrained_layout=True)\n",
    "for i,(name, ds) in enumerate(sims.items()):\n",
    "    ds = ds.sel(time=slice(4,28))\n",
    "    (ds.rams.lwp * ureg('m')).pint.to('g/m^2').plot(ax=ax1,x='time', label=name, color=cmap(i))\n",
    "\n",
    "# plt.legend()\n",
    "ax.set_ylabel('LWP [g m$^{-2}$]')\n",
    "ax1.set_title('a) Liquid Water Path')\n",
    "# plt.savefig(f'{plots_dir}/lwp.png', dpi=500)    \n",
    "\n",
    "for i,(name, ds) in enumerate(sims.items()):\n",
    "    ds = ds.sel(time=slice(4,28))\n",
    "    (ds.rams.iwp * ureg('m')).pint.to('g/m^2').plot(ax=ax2, x='time', label=name, color=cmap(i))\n",
    "\n",
    "plt.legend()\n",
    "ax2.set_ylabel('IWP [g m$^{-2}$]')\n",
    "ax2.set_title('b) Ice Water Path')\n",
    "plt.savefig(f'{plots_dir}/04.png', dpi=500)"
   ]
  },
  {
   "cell_type": "code",
   "execution_count": null,
   "id": "bd46b3a4-900d-4c93-856b-11a2f03f0263",
   "metadata": {
    "tags": []
   },
   "outputs": [],
   "source": [
    "fig = plt.figure(figsize=(5,5), constrained_layout=True)\n",
    "for i,name in enumerate(sims.keys()):\n",
    "    ds = sims[name].sel(time=slice(4,28))\n",
    "    bl_mass = (ds.SALT_FILM_NP + ds.REGEN_AERO1_NP).isel(z=0)\n",
    "    acc = ds.ACCPAERO\n",
    "    bl_mass.pint.to('1/mg').plot(color=cmap(i), label=name)\n",
    "    ds.CCP.where(ds.RCP >= 0.01 *ureg('g/kg')).mean('z').pint.to('1/mg').plot(color=cmap(i), linestyle='--')\n",
    "    # bl_mass.diff('time').plot(color=cmap(i), label=name) \n",
    "    # bl_rate = bl_mass.differentiate('time')\n",
    "    # acc_rate = acc.differentiate('time')\n",
    "    # acc_rate.plot(color=cmap(i), label=name)\n",
    "    # (bl_rate + acc_rate).plot(color=cmap(i), label=name)\n",
    "    \n",
    "plt.legend(ncol=2, title='Simulation')\n",
    "plt.ylabel('# mg$^{-1}$')\n",
    "plt.xlabel('time [hour]')\n",
    "plt.title('Surface Salt/Mean Cloud Number Concentration')\n",
    "plt.savefig(f'{plots_dir}/05.png', dpi=500)"
   ]
  },
  {
   "cell_type": "code",
   "execution_count": null,
   "id": "ad0a6a4c-ba6d-485d-88c6-604012dab73f",
   "metadata": {
    "tags": []
   },
   "outputs": [],
   "source": [
    "fig, axs = plt.subplots(2, 4, sharex=True, sharey=True, constrained_layout=True, figsize=(7,4))\n",
    "axs = axs.flatten()\n",
    "\n",
    "times = [4, 8, 12, 16, 20, 24, 28]\n",
    "\n",
    "for t,ax in zip(times, axs):\n",
    "    handles = []\n",
    "    for i,(name, ds) in enumerate(sims.items()):\n",
    "        ds1 = ds.sel(time=t)\n",
    "        p = (ds1.CCP * ds1.DN0).pint.to('1/cm^3').plot(y='Z_NORM_CLOUD', ax=ax, color=cmap(i), label=name)\n",
    "        ax.set_ylim(-0.1,1.1)\n",
    "        handles = handles + p\n",
    "        ax.set_xlabel('$N_d$ [cm$^{-3}$]')\n",
    "    if t in [4,20]: ax.set_ylabel('Norm. to Cloud')\n",
    "    else: ax.set_ylabel('')\n",
    "\n",
    "    # ax.set_xlabel(ds1.CCP.pint.to('1/mg').pint.units)\n",
    "\n",
    "fax = axs[-1]\n",
    "labs = [l.get_label() for l in handles]\n",
    "fax.legend(handles, labs, loc='center')\n",
    "fax.set_axis_off()\n",
    "plt.suptitle('a) Cloud number')\n",
    "plt.savefig(f'{plots_dir}/06a.png', dpi=500)\n"
   ]
  },
  {
   "cell_type": "code",
   "execution_count": null,
   "id": "c24a03e2-cd51-4340-820b-26bf35e88c5f",
   "metadata": {
    "tags": []
   },
   "outputs": [],
   "source": [
    "fig, axs = plt.subplots(2, 4, sharex=True, sharey=True, constrained_layout=True, figsize=(7,4))\n",
    "axs = axs.flatten()\n",
    "\n",
    "times = [4, 8, 12, 16, 20, 24, 28]\n",
    "\n",
    "for t,ax in zip(times, axs):\n",
    "    handles = []\n",
    "    for i,(name, ds) in enumerate(sims.items()):\n",
    "        ds1 = ds.sel(time=t)\n",
    "        v = ds1.rams.cloudradius\n",
    "        l = v.where(ds1.RCP >= 0.01 * ureg('g/kg')).pint.to('micron').plot(y='Z_NORM_CLOUD', ax=ax, color=cmap(i), label=name)\n",
    "        ax.set_ylim(-0.1,1.1)\n",
    "        # handles.append(p[0].get_label())\n",
    "        handles = handles + l\n",
    "        ax.set_xlabel('$r_d$ [$\\mu$m]')\n",
    "        ax.set_title(f'time = {t}.0 [hour]')\n",
    "    if t in [4,20]: ax.set_ylabel('Norm. to Cloud')\n",
    "    else: ax.set_ylabel('')\n",
    "\n",
    "            \n",
    "    # ax.legend()\n",
    "\n",
    "fax = axs[-1]\n",
    "labs = [l.get_label() for l in handles]\n",
    "fax.legend(handles, labs, loc='center')\n",
    "fax.set_axis_off()\n",
    "plt.suptitle('b) Cloud radius')\n",
    "plt.savefig(f'{plots_dir}/06b.png', dpi=500)\n"
   ]
  },
  {
   "cell_type": "code",
   "execution_count": null,
   "id": "4f00a905-6855-4a93-9444-b9c3c582e65d",
   "metadata": {
    "tags": []
   },
   "outputs": [],
   "source": [
    "!convert +append plots/06a.png plots/06b.png plots/06.png"
   ]
  },
  {
   "cell_type": "code",
   "execution_count": null,
   "id": "3f8fca9d-632b-445e-8e8d-c038eaf6b887",
   "metadata": {
    "tags": []
   },
   "outputs": [],
   "source": [
    "fig = plt.figure(figsize=(5,5), constrained_layout=True)\n",
    "for i,name in enumerate(sims.keys()):\n",
    "    ds = sims[name]\n",
    "    ((ds.RRP * ds.DN0).integrate('z') * ureg('m')).sel(time=slice(4,28)).pint.to('g/m^2').plot(label=name, color=cmap(i))\n",
    "plt.legend(ncol=2, title='Simulation')\n",
    "plt.title('Rain Water Path')\n",
    "plt.ylabel('RWP [g m$^{-2}$]')\n",
    "plt.savefig(f'{plots_dir}/07.png', dpi=500)"
   ]
  },
  {
   "cell_type": "code",
   "execution_count": null,
   "id": "2890ce6d-3cd5-49bd-b5cb-018d58ef23af",
   "metadata": {
    "tags": []
   },
   "outputs": [],
   "source": [
    "fig = plt.figure(figsize=(5,5), constrained_layout=True)\n",
    "cp = 1004 * ureg('J/kg/K')\n",
    "for i, (name,ds) in enumerate(sims.items()):\n",
    "    ds = ds.sel(time=slice(4,28))\n",
    "    # ds = ds.where(ds.Z_NORM_CLOUD <=1, drop=True)\n",
    "    # ds = ds.where(ds.Z_NORM_CLOUD >=0, drop=True)\n",
    "    v = -1* (ds.FTHRD * cp * ds.DN0).where(ds.Z_NORM_CLOUD <= 1,0).where(ds.Z_NORM_CLOUD >= 0,0).integrate('z') * ureg('m')\n",
    "    v.pint.to('W/m^2').plot(label=name, color=cmap(i))\n",
    "plt.ylabel('Cloud Radiative Flux [W m$^{-2}$]')\n",
    "plt.legend()\n",
    "plt.title('Cloud Radiative Flux')\n",
    "plt.savefig(f'{plots_dir}/08.png', dpi=500)"
   ]
  },
  {
   "cell_type": "code",
   "execution_count": null,
   "id": "1a3b2081-ede8-45fa-8610-57b108b4b649",
   "metadata": {
    "tags": []
   },
   "outputs": [],
   "source": [
    "fig, axs = plt.subplots(2, 4, sharex=True, sharey=True, constrained_layout=True, figsize=(7,4))\n",
    "axs = axs.flatten()\n",
    "\n",
    "times = [4, 8, 12, 16, 20, 24, 28]\n",
    "\n",
    "for t,ax in zip(times, axs):\n",
    "    handles = []\n",
    "    for i,(name, ds) in enumerate(sims.items()):\n",
    "        ds1 = ds.sel(time=t)\n",
    "        l = (ds1.FTHRD).pint.to('K/hr').plot(y='Z_NORM_CLOUD', ax=ax, color=cmap(i), label=name)\n",
    "        ax.set_ylim(.8,1.1)\n",
    "        # handles.append(p[0].get_label())\n",
    "        handles = handles + l\n",
    "        ax.set_xlabel('Heating Rate [K hr$^{-1}$]')\n",
    "    if t in [4,20]: ax.set_ylabel('Norm. to Cloud')\n",
    "    else: ax.set_ylabel('')\n",
    "\n",
    "    # ax.legend()\n",
    "\n",
    "fax = axs[-1]\n",
    "labs = [l.get_label() for l in handles]\n",
    "fax.legend(handles, labs, loc='center')\n",
    "fax.set_axis_off()\n",
    "plt.suptitle('Radiative Heating Rate')\n",
    "plt.savefig(f'{plots_dir}/09.png', dpi=500)\n"
   ]
  },
  {
   "cell_type": "code",
   "execution_count": null,
   "id": "b2dd62b0-568e-4403-a71d-290313e8fa2a",
   "metadata": {
    "tags": []
   },
   "outputs": [],
   "source": [
    "fig = plt.figure(constrained_layout=True)\n",
    "for i,name in enumerate(sims.keys()):\n",
    "    ds = sims[name]\n",
    "    (ds.VFLXW).sel(time=slice(4,28)).mean('z').plot(label=name, color=cmap(i))\n",
    "plt.legend(ncol=2, title='Simulation')\n",
    "plt.ylabel('$\\sigma_w^2$ [m$^2$ s$^{-2}$]')\n",
    "plt.title('Mean vertical wind variance')\n",
    "plt.savefig(f'{plots_dir}/10a.png', dpi=500)"
   ]
  },
  {
   "cell_type": "code",
   "execution_count": null,
   "id": "40ce038e-3d17-43ff-85f0-c3fbd397e0fa",
   "metadata": {
    "tags": []
   },
   "outputs": [],
   "source": [
    "fig, axs = plt.subplots(2, 4, sharex=True, sharey=True, constrained_layout=True, figsize=(7,4))\n",
    "axs = axs.flatten()\n",
    "\n",
    "times = [4, 8, 12, 16, 20, 24, 28]\n",
    "\n",
    "for t,ax in zip(times, axs):\n",
    "    handles = []\n",
    "    for i,(name, ds) in enumerate(sims.items()):\n",
    "        ds1 = ds.sel(time=t)\n",
    "        l = (ds1.VFLXW).plot(y='Z_NORM_BLTOP', ax=ax, color=cmap(i), label=name)\n",
    "        ax.set_ylim(.0,1.1)\n",
    "        # handles.append(p[0].get_label())\n",
    "        handles = handles + l\n",
    "        ax.set_xlabel('$\\sigma_w^2$ [m$^2$ s$^{-2}$]')\n",
    "    # ax.legend()\n",
    "    if t in [4,20]: ax.set_ylabel('Norm. to BL Top')\n",
    "    else: ax.set_ylabel('')\n",
    "\n",
    "fax = axs[-1]\n",
    "labs = [l.get_label() for l in handles]\n",
    "fax.legend(handles, labs, loc='center')\n",
    "fax.set_axis_off()\n",
    "plt.suptitle('Vertical wind variance')\n",
    "plt.savefig(f'{plots_dir}/10b.png', dpi=500)\n"
   ]
  },
  {
   "cell_type": "code",
   "execution_count": null,
   "id": "9a176d18-7416-4509-b736-5ad8ca05dbc8",
   "metadata": {
    "tags": []
   },
   "outputs": [],
   "source": [
    "!convert -append plots/10a.png plots/10b.png plots/10.png"
   ]
  },
  {
   "cell_type": "code",
   "execution_count": null,
   "id": "945cf2d6-1b48-4981-b1fb-275f3e01c623",
   "metadata": {
    "tags": []
   },
   "outputs": [],
   "source": [
    "fig = plt.figure(figsize=(4,4), constrained_layout=True)\n",
    "for i,(name, ds) in enumerate(sims.items()):\n",
    "    ds = ds.sel(time=slice(4,28))\n",
    "    ds.BLTOP.plot(x='time', label=name, color=cmap(i))\n",
    "\n",
    "plt.legend()\n",
    "plt.ylabel('z [m]')\n",
    "plt.title('a) Boundary Layer Top')\n",
    "plt.savefig(f'{plots_dir}/11a.png', dpi=500)"
   ]
  },
  {
   "cell_type": "code",
   "execution_count": null,
   "id": "10e96133-99a9-4fb0-93ef-5e78cb49602f",
   "metadata": {
    "tags": []
   },
   "outputs": [],
   "source": [
    "fig = plt.figure(figsize=(4,4), constrained_layout=True)\n",
    "\n",
    "for i,(name, ds) in enumerate(sims.items()):\n",
    "    ds = ds.sel(time=28, z=slice(0,800))\n",
    "    ds.THETA.plot(y='z', label=name, color=cmap(i))\n",
    "    \n",
    "plt.legend()\n",
    "plt.xlabel('$\\\\theta$ [K]')\n",
    "plt.ylabel('z [m]')\n",
    "plt.title('b) Potential Temperature ($\\\\theta$) at 28 hours')\n",
    "plt.savefig(f'{plots_dir}/11b.png', dpi=500)"
   ]
  },
  {
   "cell_type": "code",
   "execution_count": null,
   "id": "6aa73059-0da0-4f75-86ad-18001691a487",
   "metadata": {
    "tags": []
   },
   "outputs": [],
   "source": [
    "fig, axs = plt.subplots(2,3, sharex=False, sharey=True, constrained_layout=True, figsize=(8,5))\n",
    "\n",
    "times = [4, 8, 12, 16, 20, 24, 28]\n",
    "colors = plt.get_cmap('viridis', len(times))\n",
    "\n",
    "for ((name,ds), ax) in zip(sims.items(), axs.flatten()):\n",
    "    for i,t in enumerate(times):\n",
    "        # print(i,t)\n",
    "        ds1 = ds.sel(time=t)\n",
    "        aero = (ds1.REGEN_AERO1_NP + ds1.SALT_FILM_NP)\n",
    "        ax.set_ylim(0.9, 1.4)\n",
    "        aero.pint.to('1/mg').plot(y='Z_NORM_BLTOP', ax=ax, color=colors(i), label=t)\n",
    "    ax.legend(ncol=2, title='Hour', fontsize=8)\n",
    "    ax.axhline(1, color='k', linestyle='--')\n",
    "    ax.set_title(name)\n",
    "    \n",
    "    ax.set_ylabel('Norm. to BL top')\n",
    "    ax.set_xlabel('Salt Conc. [mg$^{-3}$]')\n",
    "\n",
    "plt.suptitle('c) Aerosol Concentrations near boundary layer top')\n",
    "plt.savefig(f'{plots_dir}/11c.png', dpi=500)"
   ]
  },
  {
   "cell_type": "code",
   "execution_count": null,
   "id": "e23ba1e2-c2df-4285-8b91-a98954a2692f",
   "metadata": {
    "tags": []
   },
   "outputs": [],
   "source": [
    "!convert +append plots/11a.png plots/11b.png plots/11_tmp.png\n",
    "!convert -append plots/11_tmp.png plots/11c.png plots/11.png\n",
    "!rm plots/11_tmp.png"
   ]
  },
  {
   "cell_type": "code",
   "execution_count": null,
   "id": "81d2e715-90b5-4664-98bd-28a892c4f82d",
   "metadata": {},
   "outputs": [],
   "source": []
  }
 ],
 "metadata": {
  "kernelspec": {
   "display_name": "Python 3 (ipykernel)",
   "language": "python",
   "name": "python3"
  },
  "language_info": {
   "codemirror_mode": {
    "name": "ipython",
    "version": 3
   },
   "file_extension": ".py",
   "mimetype": "text/x-python",
   "name": "python",
   "nbconvert_exporter": "python",
   "pygments_lexer": "ipython3",
   "version": "3.11.3"
  }
 },
 "nbformat": 4,
 "nbformat_minor": 5
}
